{
 "cells": [
  {
   "attachments": {},
   "cell_type": "markdown",
   "metadata": {},
   "source": [
    "##### Imports & Constants"
   ]
  },
  {
   "cell_type": "code",
   "execution_count": null,
   "metadata": {},
   "outputs": [],
   "source": [
    "import pathlib\n",
    "import pandas as pd\n",
    "\n",
    "import sklearn.model_selection as ms\n",
    "import sklearn.ensemble as ske\n",
    "import sklearn.metrics as skm\n",
    "\n",
    "FINAL_DATA_PATH = pathlib.Path('..') / 'data' / 'final' / 'final_data.csv'\n",
    "PCA_DATA_PATH = pathlib.Path('..') / 'data' / 'final' / 'pca_data.csv'\n",
    "\n",
    "final_data = pd.read_csv(FINAL_DATA_PATH)\n",
    "pca_data = pd.read_csv(PCA_DATA_PATH)\n",
    "\n",
    "X, y = final_data.drop('position', axis=1), final_data['position']\n",
    "pca_X, pca_y = pca_data, final_data['position']\n",
    "\n",
    "# Split data into train and test sets\n",
    "X_train, X_test, y_train, y_test = ms.train_test_split(X, y, test_size=0.2, random_state=42, shuffle=True)\n",
    "pca_X_train, pca_X_test, pca_y_train, pca_y_test = ms.train_test_split(pca_X, pca_y, test_size=0.2, random_state=42, shuffle=True)"
   ]
  },
  {
   "attachments": {},
   "cell_type": "markdown",
   "metadata": {},
   "source": [
    "##### Inital Model"
   ]
  },
  {
   "cell_type": "code",
   "execution_count": null,
   "metadata": {},
   "outputs": [],
   "source": [
    "rf = ske.RandomForestClassifier(n_estimators=100, random_state=42)\n",
    "rf.fit(X_train, y_train)\n",
    "y_pred = rf.predict(X_test)\n",
    "\n",
    "# Metrics\n",
    "print(skm.accuracy_score(y_test, y_pred))\n",
    "print(skm.f1_score(y_test, y_pred, average='weighted'))\n"
   ]
  },
  {
   "attachments": {},
   "cell_type": "markdown",
   "metadata": {},
   "source": [
    "##### Inital Model (PCA)"
   ]
  },
  {
   "cell_type": "code",
   "execution_count": null,
   "metadata": {},
   "outputs": [],
   "source": [
    "rf = ske.RandomForestClassifier(n_estimators=100, random_state=42)\n",
    "rf.fit(pca_X_train, pca_y_train)\n",
    "y_pred = rf.predict(pca_X_test)\n",
    "\n",
    "# Metrics\n",
    "print(skm.accuracy_score(pca_y_test, y_pred))\n",
    "print(skm.f1_score(pca_y_test, y_pred, average='weighted'))\n"
   ]
  }
 ],
 "metadata": {
  "kernelspec": {
   "display_name": "cmps460",
   "language": "python",
   "name": "python3"
  },
  "language_info": {
   "codemirror_mode": {
    "name": "ipython",
    "version": 3
   },
   "file_extension": ".py",
   "mimetype": "text/x-python",
   "name": "python",
   "nbconvert_exporter": "python",
   "pygments_lexer": "ipython3",
   "version": "3.10.10"
  },
  "orig_nbformat": 4
 },
 "nbformat": 4,
 "nbformat_minor": 2
}
