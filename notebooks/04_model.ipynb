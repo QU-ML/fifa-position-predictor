{
 "cells": [
  {
   "cell_type": "code",
   "execution_count": 10,
   "metadata": {},
   "outputs": [
    {
     "name": "stdout",
     "output_type": "stream",
     "text": [
      "(114890, 20) (28723, 20) (114890,) (28723,)\n"
     ]
    }
   ],
   "source": [
    "import pandas as pd\n",
    "from sklearn.ensemble import StackingClassifier, RandomForestClassifier, StackingRegressor, GradientBoostingClassifier, RandomForestRegressor\n",
    "from sklearn.model_selection import train_test_split\n",
    "\n",
    "df = pd.read_csv('../data/processed/processed_data.csv')\n",
    "\n",
    "# filter certain columns by index and last column\n",
    "df = df.iloc[:, list(range(1, 10)) + list(range(38, 50))]\n",
    "X, y = df.drop('position', axis=1), df['position']\n",
    "X_train, X_test, y_train, y_test = train_test_split(X, y, test_size=0.2, random_state=42)\n",
    "\n",
    "print(X_train.shape, X_test.shape, y_train.shape, y_test.shape)\n",
    "\n"
   ]
  },
  {
   "cell_type": "code",
   "execution_count": null,
   "metadata": {},
   "outputs": [],
   "source": [
    "# use gradient boosting\n",
    "gb = GradientBoostingClassifier(n_estimators=100, learning_rate=0.1, max_depth=3, random_state=42)\n",
    "# gb.fit(X_train, y_train)\n",
    "# gb.score(X_test, y_test)"
   ]
  },
  {
   "cell_type": "code",
   "execution_count": null,
   "metadata": {},
   "outputs": [],
   "source": [
    "# use bagging\n",
    "from sklearn.ensemble import BaggingClassifier\n",
    "bag = BaggingClassifier(n_estimators=100, random_state=42)\n",
    "# bag.fit(X_train, y_train)\n",
    "# bag.score(X_test, y_test)"
   ]
  },
  {
   "cell_type": "code",
   "execution_count": null,
   "metadata": {},
   "outputs": [],
   "source": [
    "from sklearn.ensemble import AdaBoostClassifier\n",
    "ada = AdaBoostClassifier(n_estimators=100, random_state=42)\n",
    "# ada.fit(X_train, y_train)\n",
    "# ada.score(X_test, y_test)"
   ]
  },
  {
   "cell_type": "code",
   "execution_count": null,
   "metadata": {},
   "outputs": [],
   "source": [
    "import time\n",
    "from sklearn.ensemble import RandomForestRegressor\n",
    "\n",
    "rf = RandomForestRegressor(n_estimators=70, random_state=42)\n",
    "# rf.fit(X_train, y_train)\n",
    "# score = rf.score(X_test, y_test)\n",
    "\n",
    "# s = time.perf_counter()\n",
    "# rf.predict(X_test.iloc[:10])\n",
    "# e = time.perf_counter()\n",
    "\n",
    "# print(f'Random Forest Regressor score: {score}')\n",
    "# print(f'Random Forest Regressor time: {e - s}')"
   ]
  },
  {
   "cell_type": "code",
   "execution_count": null,
   "metadata": {},
   "outputs": [],
   "source": [
    "# use rf regressor\n",
    "rf = RandomForestRegressor(n_estimators=70, random_state=42)\n",
    "rf.fit(X_train, y_train)\n",
    "rf.score(X_test, y_test)"
   ]
  },
  {
   "cell_type": "code",
   "execution_count": null,
   "metadata": {},
   "outputs": [],
   "source": [
    "# use stacking\n",
    "estimators = [\n",
    "    ('rf', RandomForestClassifier(n_estimators=10, random_state=42)),\n",
    "    ('gb', GradientBoostingClassifier(n_estimators=10, random_state=42)),\n",
    "    ('bag', BaggingClassifier(n_estimators=10, random_state=42)),\n",
    "    ('ada', AdaBoostClassifier(n_estimators=10, random_state=42))\n",
    "]\n",
    "\n",
    "stack = StackingClassifier(estimators=estimators, final_estimator=RandomForestClassifier(n_estimators=100, random_state=42))\n",
    "\n",
    "stack.fit(X_train, y_train)\n",
    "\n",
    "stack.score(X_test, y_test)"
   ]
  },
  {
   "cell_type": "code",
   "execution_count": null,
   "metadata": {},
   "outputs": [],
   "source": [
    "from sklearn.ensemble import StackingRegressor, RandomForestRegressor, GradientBoostingRegressor, BaggingRegressor, AdaBoostRegressor\n",
    "# use stacking regressor\n",
    "estimators = [\n",
    "    ('rf', RandomForestRegressor(n_estimators=20, random_state=42)),\n",
    "    ('gb', GradientBoostingRegressor(n_estimators=20, random_state=42)),\n",
    "    ('bag', BaggingRegressor(n_estimators=20, random_state=42)),\n",
    "    ('ada', AdaBoostRegressor(n_estimators=20, random_state=42))\n",
    "]\n",
    "\n",
    "stack = StackingRegressor(estimators=estimators, final_estimator=RandomForestRegressor(n_estimators=100, random_state=42))\n",
    "\n",
    "stack.fit(X_train, y_train)\n",
    "\n",
    "stack.score(X_test, y_test)\n"
   ]
  },
  {
   "cell_type": "code",
   "execution_count": null,
   "metadata": {},
   "outputs": [],
   "source": [
    "# draw feature importance\n",
    "import matplotlib.pyplot as plt\n",
    "\n",
    "fig, ax = plt.subplots(figsize=(10, 10))\n",
    "pd.Series(rf.feature_importances_, index=X.columns).sort_values().plot.barh(ax=ax)\n"
   ]
  },
  {
   "cell_type": "code",
   "execution_count": 5,
   "metadata": {},
   "outputs": [
    {
     "data": {
      "text/html": [
       "<div>\n",
       "<style scoped>\n",
       "    .dataframe tbody tr th:only-of-type {\n",
       "        vertical-align: middle;\n",
       "    }\n",
       "\n",
       "    .dataframe tbody tr th {\n",
       "        vertical-align: top;\n",
       "    }\n",
       "\n",
       "    .dataframe thead th {\n",
       "        text-align: right;\n",
       "    }\n",
       "</style>\n",
       "<table border=\"1\" class=\"dataframe\">\n",
       "  <thead>\n",
       "    <tr style=\"text-align: right;\">\n",
       "      <th></th>\n",
       "      <th>weight_kg</th>\n",
       "      <th>preferred_foot</th>\n",
       "      <th>weak_foot</th>\n",
       "      <th>skill_moves</th>\n",
       "      <th>work_rate</th>\n",
       "      <th>pace</th>\n",
       "      <th>shooting</th>\n",
       "      <th>passing</th>\n",
       "      <th>dribbling</th>\n",
       "      <th>defending</th>\n",
       "      <th>physic</th>\n",
       "      <th>position</th>\n",
       "    </tr>\n",
       "  </thead>\n",
       "  <tbody>\n",
       "    <tr>\n",
       "      <th>0</th>\n",
       "      <td>67</td>\n",
       "      <td>0</td>\n",
       "      <td>3</td>\n",
       "      <td>4</td>\n",
       "      <td>8</td>\n",
       "      <td>93.0</td>\n",
       "      <td>89.0</td>\n",
       "      <td>86.0</td>\n",
       "      <td>96.0</td>\n",
       "      <td>27.0</td>\n",
       "      <td>63.0</td>\n",
       "      <td>ST</td>\n",
       "    </tr>\n",
       "    <tr>\n",
       "      <th>1</th>\n",
       "      <td>80</td>\n",
       "      <td>0</td>\n",
       "      <td>4</td>\n",
       "      <td>5</td>\n",
       "      <td>8</td>\n",
       "      <td>93.0</td>\n",
       "      <td>93.0</td>\n",
       "      <td>81.0</td>\n",
       "      <td>91.0</td>\n",
       "      <td>32.0</td>\n",
       "      <td>79.0</td>\n",
       "      <td>LW</td>\n",
       "    </tr>\n",
       "    <tr>\n",
       "      <th>2</th>\n",
       "      <td>80</td>\n",
       "      <td>0</td>\n",
       "      <td>2</td>\n",
       "      <td>4</td>\n",
       "      <td>8</td>\n",
       "      <td>93.0</td>\n",
       "      <td>86.0</td>\n",
       "      <td>83.0</td>\n",
       "      <td>92.0</td>\n",
       "      <td>32.0</td>\n",
       "      <td>64.0</td>\n",
       "      <td>RW</td>\n",
       "    </tr>\n",
       "    <tr>\n",
       "      <th>3</th>\n",
       "      <td>95</td>\n",
       "      <td>0</td>\n",
       "      <td>4</td>\n",
       "      <td>4</td>\n",
       "      <td>8</td>\n",
       "      <td>76.0</td>\n",
       "      <td>91.0</td>\n",
       "      <td>81.0</td>\n",
       "      <td>86.0</td>\n",
       "      <td>34.0</td>\n",
       "      <td>86.0</td>\n",
       "      <td>ST</td>\n",
       "    </tr>\n",
       "    <tr>\n",
       "      <th>4</th>\n",
       "      <td>65</td>\n",
       "      <td>0</td>\n",
       "      <td>4</td>\n",
       "      <td>4</td>\n",
       "      <td>8</td>\n",
       "      <td>75.0</td>\n",
       "      <td>72.0</td>\n",
       "      <td>89.0</td>\n",
       "      <td>91.0</td>\n",
       "      <td>59.0</td>\n",
       "      <td>63.0</td>\n",
       "      <td>CM</td>\n",
       "    </tr>\n",
       "  </tbody>\n",
       "</table>\n",
       "</div>"
      ],
      "text/plain": [
       "   weight_kg  preferred_foot  weak_foot  skill_moves  work_rate  pace  \\\n",
       "0         67               0          3            4          8  93.0   \n",
       "1         80               0          4            5          8  93.0   \n",
       "2         80               0          2            4          8  93.0   \n",
       "3         95               0          4            4          8  76.0   \n",
       "4         65               0          4            4          8  75.0   \n",
       "\n",
       "   shooting  passing  dribbling  defending  physic position  \n",
       "0      89.0     86.0       96.0       27.0    63.0       ST  \n",
       "1      93.0     81.0       91.0       32.0    79.0       LW  \n",
       "2      86.0     83.0       92.0       32.0    64.0       RW  \n",
       "3      91.0     81.0       86.0       34.0    86.0       ST  \n",
       "4      72.0     89.0       91.0       59.0    63.0       CM  "
      ]
     },
     "execution_count": 5,
     "metadata": {},
     "output_type": "execute_result"
    }
   ],
   "source": [
    "cleaned_df = pd.read_csv('../data/cleaned/cleaned_data.csv')\n",
    "cleaned_df = cleaned_df.iloc[:, list(range(1, 12)) + [40]]\n",
    "\n",
    "# convert preferred_foot to binary\n",
    "cleaned_df['preferred_foot'] = cleaned_df['preferred_foot'].apply(lambda x: 1 if x == 'right' else 0)\n",
    "# encode work_rate low/low is 0, low/medium is 1, low/high is 2, medium/low is 3, medium/medium is 4, medium/high is 5, high/low is 6, high/medium is 7, high/high is 8 \n",
    "cleaned_df['work_rate'] = cleaned_df['work_rate'].apply(lambda x: 0 if x == 'low/low' else 1 if x == 'low/medium' else 2 if x == 'low/high' else 3 if x == 'medium/low' else 4 if x == 'medium/medium' else 5 if x == 'medium/high' else 6 if x == 'high/low' else 7 if x == 'high/medium' else 8)\n",
    "\n",
    "X, y = cleaned_df.drop('position', axis=1), cleaned_df['position']\n",
    "X_train, X_test, y_train, y_test = train_test_split(X, y, test_size=0.2, random_state=42)\n",
    "\n",
    "cleaned_df.head()"
   ]
  },
  {
   "cell_type": "code",
   "execution_count": 12,
   "metadata": {},
   "outputs": [
    {
     "name": "stdout",
     "output_type": "stream",
     "text": [
      "Random Forest Regressor score: 0.8801290344677006\n"
     ]
    }
   ],
   "source": [
    "# use random forest regressor\n",
    "rf = RandomForestRegressor(n_estimators=70, random_state=42)\n",
    "rf.fit(X_train, y_train)\n",
    "score = rf.score(X_test, y_test)\n",
    "print(f'Random Forest Regressor score: {score}')"
   ]
  },
  {
   "cell_type": "code",
   "execution_count": null,
   "metadata": {},
   "outputs": [],
   "source": []
  }
 ],
 "metadata": {
  "kernelspec": {
   "display_name": "cmps460",
   "language": "python",
   "name": "python3"
  },
  "language_info": {
   "codemirror_mode": {
    "name": "ipython",
    "version": 3
   },
   "file_extension": ".py",
   "mimetype": "text/x-python",
   "name": "python",
   "nbconvert_exporter": "python",
   "pygments_lexer": "ipython3",
   "version": "3.10.10"
  },
  "orig_nbformat": 4
 },
 "nbformat": 4,
 "nbformat_minor": 2
}
