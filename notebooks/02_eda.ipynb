{
 "cells": [
  {
   "attachments": {},
   "cell_type": "markdown",
   "metadata": {},
   "source": [
    "#### Imports & Constants"
   ]
  },
  {
   "cell_type": "code",
   "execution_count": null,
   "metadata": {},
   "outputs": [],
   "source": [
    "import sys\n",
    "import pathlib\n",
    "import numpy as np\n",
    "import pandas as pd\n",
    "import matplotlib.pyplot as plt\n",
    "import seaborn as sns\n",
    "\n",
    "sys.path.append(pathlib.Path(\"..\").resolve().as_posix())\n",
    "\n",
    "from src.coder import TargetCoder\n",
    "\n",
    "CLEANED_DATA_PATH = pathlib.Path(\"..\") / \"data\" / \"cleaned\" / \"cleaned_data.csv\"\n",
    "PROCESS_DATA_PATH = pathlib.Path(\"..\") / \"data\" / \"processed\" / \"processed_data.csv\"\n",
    "\n",
    "cleaned_df = pd.read_csv(CLEANED_DATA_PATH)\n",
    "processed_df = pd.read_csv(PROCESS_DATA_PATH)"
   ]
  },
  {
   "attachments": {},
   "cell_type": "markdown",
   "metadata": {},
   "source": [
    "##### Sample"
   ]
  },
  {
   "cell_type": "code",
   "execution_count": null,
   "metadata": {},
   "outputs": [],
   "source": [
    "print(f\"Cleaned data shape: {cleaned_df.shape}\")\n",
    "cleaned_df.head()"
   ]
  },
  {
   "cell_type": "code",
   "execution_count": null,
   "metadata": {},
   "outputs": [],
   "source": [
    "print(f\"Processed data shape: {processed_df.shape}\")\n",
    "processed_df.head()"
   ]
  },
  {
   "attachments": {},
   "cell_type": "markdown",
   "metadata": {},
   "source": [
    "##### Height & Weight (Analysis & Visualization)"
   ]
  },
  {
   "cell_type": "code",
   "execution_count": null,
   "metadata": {},
   "outputs": [],
   "source": [
    "def get_height_weight_statistics_df() -> pd.DataFrame:\n",
    "    grouped_df: pd.DataFrame = cleaned_df.groupby('position')\n",
    "    indexed_df: pd.DataFrame = grouped_df[[\"height_cm\", \"weight_kg\"]]\n",
    "    agg_df: pd.DataFrame = indexed_df.agg([\"mean\", \"std\", \"min\", \"max\"])\n",
    "    # reindex positions to match TargetCoder._TARGET_DECODER\n",
    "    agg_df = agg_df.reindex(TargetCoder._TARGET_DECODER.values())\n",
    "    return agg_df\n",
    "    \n",
    "    \n",
    "def scatterplot_height_weight_by_position() -> None:\n",
    "    plt.figure(figsize=(12, 8))\n",
    "\n",
    "    plt.scatter(\n",
    "        cleaned_df[\"height_cm\"],\n",
    "        cleaned_df[\"weight_kg\"],\n",
    "        c=processed_df[\"position\"],\n",
    "        alpha=0.5,\n",
    "        cmap=\"viridis\",\n",
    "    )\n",
    "\n",
    "    plt.xlabel(\"Height (cm)\")\n",
    "    plt.ylabel(\"Weight (kg)\")\n",
    "    plt.title(\"Height vs Weight by Position\")\n",
    "\n",
    "    plt.grid(alpha=0.5)\n",
    "\n",
    "    positions: list = cleaned_df[\"position\"].unique().tolist()\n",
    "    positions.sort(key=TargetCoder.encode, reverse=True)\n",
    "\n",
    "    cbar = plt.colorbar(label=\"Position\", ticks=range(len(positions)))\n",
    "    cbar.set_ticklabels(positions)\n",
    "\n",
    "    plt.show()\n",
    "\n",
    "scatterplot_height_weight_by_position()\n",
    "get_height_weight_statistics_df()"
   ]
  },
  {
   "attachments": {},
   "cell_type": "markdown",
   "metadata": {},
   "source": [
    "##### Preferred Foot (Analysis & Visualization)"
   ]
  },
  {
   "cell_type": "code",
   "execution_count": null,
   "metadata": {},
   "outputs": [],
   "source": [
    "def get_foot_crosstab() -> pd.DataFrame:\n",
    "    # Create a crosstab of preferred_foot and position\n",
    "    foot_crosstab = pd.crosstab(cleaned_df['preferred_foot'], cleaned_df['position'])\n",
    "    # Divide each column by the sum of the column to get percentages\n",
    "    foot_crosstab = foot_crosstab.div(foot_crosstab.sum(axis=0), axis=1) * 100\n",
    "    # Round the percentages to two decimal places\n",
    "    foot_crosstab = foot_crosstab.round(2)\n",
    "    # reindex positions to match TargetCoder._TARGET_DECODER\n",
    "    foot_crosstab = foot_crosstab.sort_index(axis=1, key=lambda x: x.map(TargetCoder.encode))\n",
    "    return foot_crosstab\n",
    "\n",
    "def visualize_foot_crosstab(foot_crosstab: pd.DataFrame) -> None:\n",
    "    # plot the data\n",
    "    positions = foot_crosstab.columns.tolist()\n",
    "    x = np.arange(len(positions))\n",
    "    _, ax = plt.subplots(figsize=(12, 8))\n",
    "    \n",
    "    # for each ax (position), plot the left and right foot percentages\n",
    "    # left bar shift by 0.2 to the left, right bar shift by 0.2 to the right\n",
    "    ax.bar(x - 0.2, foot_crosstab.loc['Left'], 0.4, label='Left foot')\n",
    "    ax.bar(x + 0.2, foot_crosstab.loc['Right'], 0.4, label='Right foot')\n",
    "    \n",
    "    ax.set_xticks(x)\n",
    "    ax.set_xticklabels(positions)\n",
    "    ax.set_ylabel('Percentage')\n",
    "    ax.set_title('Preferred Foot by Position')\n",
    "    ax.legend()\n",
    "\n",
    "    plt.show()\n",
    "\n",
    "foot_crosstab = get_foot_crosstab()\n",
    "visualize_foot_crosstab(foot_crosstab)\n",
    "foot_crosstab"
   ]
  },
  {
   "attachments": {},
   "cell_type": "markdown",
   "metadata": {},
   "source": [
    "##### Weak Foot (Analysis & Visualization)"
   ]
  },
  {
   "cell_type": "code",
   "execution_count": null,
   "metadata": {},
   "outputs": [],
   "source": [
    "def weak_foot_by_position_boxplot() -> None:\n",
    "    sns.boxplot(\n",
    "        x='position',\n",
    "        y='weak_foot',\n",
    "        data=cleaned_df\n",
    "    )\n",
    "    \n",
    "    plt.xlabel('Position')\n",
    "    plt.ylabel('Weak Foot')\n",
    "    \n",
    "    plt.title('Weak Foot by Position')\n",
    "    plt.show()\n",
    "\n",
    "def get_weak_foot_by_position_analysis() -> pd.DataFrame:\n",
    "    grouped_df = cleaned_df.groupby('position')\n",
    "    indexed_df = grouped_df[[\"weak_foot\"]]\n",
    "    agg_df = indexed_df.agg([\"describe\"])\n",
    "    # reindex positions to match TargetCoder._TARGET_DECODER\n",
    "    agg_df = agg_df.reindex(TargetCoder._TARGET_DECODER.values())\n",
    "    return agg_df\n",
    "    \n",
    "    \n",
    "weak_foot_by_position_boxplot()\n",
    "analysis = get_weak_foot_by_position_analysis()\n",
    "analysis"
   ]
  },
  {
   "attachments": {},
   "cell_type": "markdown",
   "metadata": {},
   "source": [
    "##### Skill Moves (Analysis & Visualization)"
   ]
  },
  {
   "cell_type": "code",
   "execution_count": null,
   "metadata": {},
   "outputs": [],
   "source": [
    "def skill_moves_by_position_boxplot() -> None:\n",
    "    sns.boxplot(\n",
    "        x='position',\n",
    "        y='skill_moves',\n",
    "        data=cleaned_df\n",
    "    )\n",
    "    \n",
    "    plt.xlabel('Position')\n",
    "    plt.ylabel('Skill Moves')\n",
    "    \n",
    "    plt.title('Skill Moves by Position')\n",
    "    plt.show()\n",
    "\n",
    "def skill_moves_by_position_distplot() -> None:\n",
    "    sns.displot(\n",
    "        x='skill_moves',\n",
    "        hue='position',\n",
    "        data=cleaned_df,\n",
    "        kde=True,\n",
    "        height=8,\n",
    "        aspect=1,\n",
    "        multiple='stack',\n",
    "        palette='viridis'\n",
    "    )\n",
    "    \n",
    "    plt.xlabel('Skill Moves')\n",
    "    plt.ylabel('Count')\n",
    "    \n",
    "    plt.title('Skill Moves by Position')\n",
    "    plt.show()\n",
    "\n",
    "def get_skill_moves_by_position_analysis() -> pd.DataFrame:\n",
    "    grouped_df = cleaned_df.groupby('position')\n",
    "    indexed_df = grouped_df[[\"skill_moves\"]]\n",
    "    agg_df = indexed_df.agg([\"describe\"])\n",
    "    # reindex positions to match TargetCoder._TARGET_DECODER\n",
    "    agg_df = agg_df.reindex(TargetCoder._TARGET_DECODER.values())\n",
    "    return agg_df\n",
    "\n",
    "skill_moves_by_position_boxplot()\n",
    "skill_moves_by_position_distplot()\n",
    "analysis = get_skill_moves_by_position_analysis()\n",
    "analysis"
   ]
  },
  {
   "attachments": {},
   "cell_type": "markdown",
   "metadata": {},
   "source": [
    "##### Pace (Analysis & Visualization)"
   ]
  },
  {
   "cell_type": "code",
   "execution_count": null,
   "metadata": {},
   "outputs": [],
   "source": [
    "def visualize_pace_by_position_boxplot() -> None:\n",
    "    # Create a boxplot of player pace by position\n",
    "    sns.boxplot(x='position', y='pace', data=cleaned_df)\n",
    "    plt.title('Player Pace by Position')\n",
    "    plt.xlabel('Position')\n",
    "    plt.ylabel('Pace')\n",
    "    plt.show()\n",
    "\n",
    "def visualize_pace_by_position_distplot() -> None:\n",
    "    # Create a distribution plot of player pace by position\n",
    "    sns.displot(\n",
    "        x='pace',\n",
    "        hue='position',\n",
    "        data=cleaned_df,\n",
    "        kde=True,\n",
    "        height=8,\n",
    "        aspect=1,\n",
    "        multiple='stack',\n",
    "        palette='viridis'\n",
    "    )\n",
    "    plt.title('Player Pace by Position')\n",
    "    plt.xlabel('Pace')\n",
    "    plt.ylabel('Count')\n",
    "    plt.show()\n",
    "\n",
    "def get_pace_by_position_analysis() -> pd.DataFrame:\n",
    "    # Group cleaned_df by position\n",
    "    grouped_df = cleaned_df.groupby('position')\n",
    "    # Select the pace column\n",
    "    indexed_df = grouped_df[[\"pace\"]]\n",
    "    # Aggregate the columns with describe()\n",
    "    agg_df = indexed_df.agg([\"describe\"])\n",
    "    # Reindex the rows of agg_df\n",
    "    agg_df = agg_df.reindex(TargetCoder._TARGET_DECODER.values())\n",
    "    return agg_df\n",
    "\n",
    "visualize_pace_by_position_boxplot()\n",
    "visualize_pace_by_position_distplot()\n",
    "analysis = get_pace_by_position_analysis()\n",
    "analysis"
   ]
  },
  {
   "attachments": {},
   "cell_type": "markdown",
   "metadata": {},
   "source": [
    "##### Sample Data"
   ]
  },
  {
   "cell_type": "code",
   "execution_count": null,
   "metadata": {},
   "outputs": [],
   "source": [
    "# sample 1000 rows from each position\n",
    "sample_df = cleaned_df.groupby('position').apply(lambda x: x.sample(n=1000, random_state=42)).reset_index(drop=True)\n",
    "# shuffle the rows\n",
    "sample_df = sample_df.sample(frac=1, random_state=42).reset_index(drop=True)"
   ]
  },
  {
   "attachments": {},
   "cell_type": "markdown",
   "metadata": {},
   "source": [
    "##### Attacking Attributes (Analysis & Visualization)"
   ]
  },
  {
   "cell_type": "code",
   "execution_count": null,
   "metadata": {},
   "outputs": [],
   "source": [
    "attacking_attr = ['attacking_crossing', 'attacking_finishing', 'attacking_heading_accuracy', 'attacking_short_passing', 'attacking_volleys']\n",
    "\n",
    "def visualize_attacking_attributes_by_pairplot() -> None:\n",
    "    # Create a pairplot and color the points using the 'position' column\n",
    "    plt.figure(figsize=(10, 10))\n",
    "    sns.pairplot(\n",
    "        sample_df[attacking_attr + ['position']],\n",
    "        hue='position',\n",
    "        height=3,\n",
    "        aspect=1,\n",
    "        palette='viridis'\n",
    "    )\n",
    "    plt.show()\n",
    "\n",
    "def get_attacking_attributes_by_positions_corr() -> pd.DataFrame:\n",
    "    # Group sample_df by position and select the attacking attributes\n",
    "    grouped_df = cleaned_df.groupby('position')[attacking_attr]\n",
    "    # Compute the mean of grouped_df\n",
    "    mean_df = grouped_df.mean()\n",
    "    # Create the correlation matrix of mean_df\n",
    "    corr_df = mean_df.corr()\n",
    "    return corr_df\n",
    "\n",
    "corr_df = get_attacking_attributes_by_positions_corr()\n",
    "    \n",
    "visualize_attacking_attributes_by_pairplot()\n",
    "corr_df"
   ]
  },
  {
   "attachments": {},
   "cell_type": "markdown",
   "metadata": {},
   "source": [
    "##### Defending Attributes (Analysis & Visualization)"
   ]
  },
  {
   "cell_type": "code",
   "execution_count": null,
   "metadata": {},
   "outputs": [],
   "source": [
    "defenging_attr = ['defending_marking_awareness', 'defending_standing_tackle', 'defending_sliding_tackle']\n",
    "\n",
    "def visualize_defending_attributes_by_pairplot() -> None:\n",
    "    # Create a pairplot and color the points using the 'position' column\n",
    "    plt.figure(figsize=(10, 10))\n",
    "    sns.pairplot(\n",
    "        sample_df[defenging_attr + ['position']],\n",
    "        hue='position',\n",
    "        height=3,\n",
    "        aspect=1,\n",
    "        palette='viridis'\n",
    "    )\n",
    "    plt.show()\n",
    "    \n",
    "def get_defending_attributes_by_positions_corr() -> pd.DataFrame:\n",
    "    # Group sample_df by position and select the defending attributes\n",
    "    grouped_df = cleaned_df.groupby('position')[defenging_attr]\n",
    "    # Compute the mean of grouped_df\n",
    "    mean_df = grouped_df.mean()\n",
    "    # Create the correlation matrix of mean_df\n",
    "    corr_df = mean_df.corr()\n",
    "    return corr_df\n",
    "\n",
    "corr_df = get_defending_attributes_by_positions_corr()\n",
    "visualize_defending_attributes_by_pairplot()\n",
    "corr_df"
   ]
  },
  {
   "attachments": {},
   "cell_type": "markdown",
   "metadata": {},
   "source": [
    "##### Power Attributes (Analysis & Visualization)"
   ]
  },
  {
   "cell_type": "code",
   "execution_count": null,
   "metadata": {},
   "outputs": [],
   "source": [
    "power_atr = ['power_shot_power', 'power_jumping', 'power_stamina', 'power_strength', 'power_long_shots']\n",
    "\n",
    "def visualize_power_attributes_by_pairplot() -> None:\n",
    "    # Create a pairplot and color the points using the 'position' column\n",
    "    plt.figure(figsize=(10, 10))\n",
    "    sns.pairplot(\n",
    "        sample_df[power_atr + ['position']],\n",
    "        hue='position',\n",
    "        height=3,\n",
    "        aspect=1,\n",
    "        palette='viridis'\n",
    "    )\n",
    "    plt.show()\n",
    "    \n",
    "def get_power_attributes_by_positions_corr() -> pd.DataFrame:\n",
    "    # Group sample_df by position and select the power attributes\n",
    "    grouped_df = cleaned_df.groupby('position')[power_atr]\n",
    "    # Compute the mean of grouped_df\n",
    "    mean_df = grouped_df.mean()\n",
    "    # Create the correlation matrix of mean_df\n",
    "    corr_df = mean_df.corr()\n",
    "    return corr_df\n",
    "\n",
    "corr_df = get_power_attributes_by_positions_corr()\n",
    "visualize_power_attributes_by_pairplot()\n",
    "corr_df"
   ]
  }
 ],
 "metadata": {
  "kernelspec": {
   "display_name": "cmps460",
   "language": "python",
   "name": "python3"
  },
  "language_info": {
   "codemirror_mode": {
    "name": "ipython",
    "version": 3
   },
   "file_extension": ".py",
   "mimetype": "text/x-python",
   "name": "python",
   "nbconvert_exporter": "python",
   "pygments_lexer": "ipython3",
   "version": "3.10.10"
  },
  "orig_nbformat": 4
 },
 "nbformat": 4,
 "nbformat_minor": 2
}
