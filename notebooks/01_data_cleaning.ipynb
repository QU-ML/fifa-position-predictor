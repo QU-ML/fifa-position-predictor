{
 "cells": [
  {
   "attachments": {},
   "cell_type": "markdown",
   "metadata": {},
   "source": [
    "#### Imports & Constants"
   ]
  },
  {
   "cell_type": "code",
   "execution_count": null,
   "metadata": {},
   "outputs": [],
   "source": [
    "import pathlib\n",
    "import pandas as pd\n",
    "\n",
    "from sklearn.preprocessing import MinMaxScaler\n",
    "\n",
    "scaler = MinMaxScaler()\n",
    "\n",
    "pd.set_option('display.max_columns', 110) # 110 is the number of columns in the dataset\n",
    "pd.set_option('display.max_rows', 1000)\n",
    "\n",
    "DATASET_PATH = pathlib.Path(\"..\") / \"data\" / \"raw\" / \"players.csv\"\n",
    "MAIN_COLUMNS = [7, 14, 15, 31, 32, 33, 35, 40, 41, 42, 43, 44, 45, 46]\n",
    "DETAILED_COLUMNS =  list(range(47, 76))\n",
    "USED_COLUMNS = MAIN_COLUMNS + DETAILED_COLUMNS\n",
    "\n",
    "print(USED_COLUMNS)"
   ]
  },
  {
   "attachments": {},
   "cell_type": "markdown",
   "metadata": {},
   "source": [
    "#### Load Data "
   ]
  },
  {
   "cell_type": "code",
   "execution_count": null,
   "metadata": {},
   "outputs": [],
   "source": [
    "df = pd.read_csv(DATASET_PATH, usecols=USED_COLUMNS)"
   ]
  },
  {
   "attachments": {},
   "cell_type": "markdown",
   "metadata": {},
   "source": [
    "### Proccess positions"
   ]
  },
  {
   "cell_type": "code",
   "execution_count": null,
   "metadata": {},
   "outputs": [],
   "source": [
    "_POSITIONS_MAPPER = {\n",
    "    \"ST\": \"ST\", \"CF\": \"ST\",\n",
    "    \"LW\": \"LW\", \"LF\": \"LW\", \"LM\": \"LW\",\n",
    "    \"RW\": \"RW\", \"RM\": \"RW\", \"RF\": \"RW\",\n",
    "    \"CM\": \"CM\", \"CAM\": \"CM\", \"CDM\": \"CM\",\n",
    "    \"RB\": \"RB\", \"RWB\": \"RB\",\n",
    "    \"LB\": \"LB\", \"LWB\": \"LB\",\n",
    "    \"CB\": \"CB\"\n",
    "}\n",
    "\n",
    "\n",
    "def _drop_GKs(df: pd.DataFrame) -> None:\n",
    "    \"\"\"\n",
    "    Drops all goalkeepers from the dataset inplace\n",
    "    \"\"\"\n",
    "    df.drop(df[df[\"player_positions\"].str.contains(\"GK\")].index, inplace=True)\n",
    "\n",
    "\n",
    "def process_positions(df: pd.DataFrame) -> None:\n",
    "    \"\"\"\n",
    "    Processes the player_positions column inplace\n",
    "    Effect:\n",
    "        - Drops all goalkeepers\n",
    "        - Maps the positions to the main positions (first position in the string)\n",
    "        - Move the column to the end of the dataframe\n",
    "        - Renames the column to position to \"label\"\n",
    "    \"\"\"\n",
    "    # drop goalkeepers\n",
    "    _drop_GKs(df)\n",
    "    # map positions\n",
    "    df[\"player_positions\"] = df[\"player_positions\"].str.split(\",\").str[0].map(_POSITIONS_MAPPER)\n",
    "    # move the column to the end\n",
    "    df[\"position\"] = df.pop(\"player_positions\")"
   ]
  },
  {
   "attachments": {},
   "cell_type": "markdown",
   "metadata": {},
   "source": [
    "##### Process height & weight"
   ]
  },
  {
   "cell_type": "code",
   "execution_count": null,
   "metadata": {},
   "outputs": [],
   "source": [
    "def process_height(df: pd.DataFrame) -> None:\n",
    "    \"\"\"\n",
    "    Processes the height column inplace\n",
    "    Effect:\n",
    "        - Normalizes the height_cm [0, 1]\n",
    "    \"\"\"\n",
    "    df[\"height_cm\"] = scaler.fit_transform(df[[\"height_cm\"]])\n",
    "    \n",
    "def process_weight(df: pd.DataFrame) -> None:\n",
    "    \"\"\"\n",
    "    Processes the weight column inplace\n",
    "    Effect:\n",
    "        - Normalizes the weight_kg [0, 1]\n",
    "    \"\"\"\n",
    "    df[\"weight_kg\"] = scaler.fit_transform(df[[\"weight_kg\"]])"
   ]
  },
  {
   "attachments": {},
   "cell_type": "markdown",
   "metadata": {},
   "source": [
    "##### Process preferred foot, weak foot & skill moves"
   ]
  },
  {
   "cell_type": "code",
   "execution_count": null,
   "metadata": {},
   "outputs": [],
   "source": [
    "# TODO: one hot encode\n",
    "def process_preferred_foot(df: pd.DataFrame) -> None:\n",
    "    \"\"\"\n",
    "    Processes the preferred_foot column inplace\n",
    "    Effect:\n",
    "        - Maps the preferred_foot column to 0/1\n",
    "        - 0 for left footed\n",
    "        - 1 for right footed\n",
    "    \"\"\"\n",
    "    df[\"preferred_foot\"] = df[\"preferred_foot\"].map({\"Left\": 0, \"Right\": 1})\n",
    "\n",
    "def process_weak_foot(df: pd.DataFrame) -> None:\n",
    "    \"\"\" \n",
    "    Processes the weak_foot column inplace\n",
    "    Effect:\n",
    "        - Normalizes the weak_foot column [0, 1]\n",
    "    \"\"\"\n",
    "    df[\"weak_foot\"] = scaler.fit_transform(df[[\"weak_foot\"]])\n",
    "    \n",
    "def process_skill_moves(df: pd.DataFrame) -> None:\n",
    "    \"\"\" \n",
    "    Processes the skill_moves column inplace\n",
    "    Effect:\n",
    "        - Normalizes the skill_moves column [0, 1]\n",
    "    \"\"\"\n",
    "    df[\"skill_moves\"] = scaler.fit_transform(df[[\"skill_moves\"]])"
   ]
  },
  {
   "attachments": {},
   "cell_type": "markdown",
   "metadata": {},
   "source": [
    "##### Process pace, shooting, passing, dribbling, defending & physic"
   ]
  },
  {
   "cell_type": "code",
   "execution_count": null,
   "metadata": {},
   "outputs": [],
   "source": [
    "def process_pace(df: pd.DataFrame) -> None:\n",
    "    \"\"\" \n",
    "    Processes the pace column inplace\n",
    "    Effect:\n",
    "        - Normalizes the pace column [0, 1]\n",
    "    \"\"\"\n",
    "    df[\"pace\"] = scaler.fit_transform(df[[\"pace\"]])\n",
    "\n",
    "def process_shooting(df: pd.DataFrame) -> None:\n",
    "    \"\"\" \n",
    "    Processes the shooting column inplace\n",
    "    Effect:\n",
    "        - Normalizes the shooting column [0, 1]\n",
    "    \"\"\"\n",
    "    df[\"shooting\"] = scaler.fit_transform(df[[\"shooting\"]])\n",
    "    \n",
    "def process_passing(df: pd.DataFrame) -> None:\n",
    "    \"\"\" \n",
    "    Processes the passing column inplace\n",
    "    Effect:\n",
    "        - Normalizes the passing column [0, 1]\n",
    "    \"\"\"\n",
    "    df[\"passing\"] = scaler.fit_transform(df[[\"passing\"]])\n",
    "    \n",
    "def process_dribbling(df: pd.DataFrame) -> None:\n",
    "    \"\"\" \n",
    "    Processes the dribbling column inplace\n",
    "    Effect:\n",
    "        - Normalizes the dribbling column [0, 1]\n",
    "    \"\"\"\n",
    "    df[\"dribbling\"] = scaler.fit_transform(df[[\"dribbling\"]])\n",
    "    \n",
    "def process_defending(df: pd.DataFrame) -> None:\n",
    "    \"\"\" \n",
    "    Processes the defending column inplace\n",
    "    Effect:\n",
    "        - Normalizes the defending column [0, 1]\n",
    "    \"\"\"\n",
    "    df[\"defending\"] = scaler.fit_transform(df[[\"defending\"]])\n",
    "    \n",
    "def process_physic(df: pd.DataFrame) -> None:\n",
    "    \"\"\" \n",
    "    Processes the physic column inplace\n",
    "    Effect:\n",
    "        - Normalizes the physic column [0, 1]\n",
    "    \"\"\"\n",
    "    df[\"physic\"] = scaler.fit_transform(df[[\"physic\"]])"
   ]
  },
  {
   "attachments": {},
   "cell_type": "markdown",
   "metadata": {},
   "source": [
    "#### Process Data"
   ]
  },
  {
   "cell_type": "code",
   "execution_count": null,
   "metadata": {},
   "outputs": [],
   "source": [
    "\"\"\" \n",
    "encode:\n",
    "    nation_position with custom positions (target)\n",
    "    work rate with custom work rate\n",
    "    player traits with custom traits\n",
    "remove:\n",
    "    player_positions\n",
    "    body type\n",
    "    goalkeepers\n",
    "    goalkeeping attributes\n",
    "\"\"\"\n",
    "\n",
    "process_positions(df)\n",
    "process_height(df)\n",
    "process_weight(df)\n",
    "process_preferred_foot(df)\n",
    "process_weak_foot(df)\n",
    "process_skill_moves(df)\n",
    "process_pace(df)\n",
    "process_shooting(df)\n",
    "process_passing(df)\n",
    "process_dribbling(df)\n",
    "process_defending(df)\n",
    "process_physic(df)\n",
    "\n",
    "df.head()"
   ]
  },
  {
   "attachments": {},
   "cell_type": "markdown",
   "metadata": {},
   "source": [
    "#### Save Data"
   ]
  },
  {
   "cell_type": "code",
   "execution_count": null,
   "metadata": {},
   "outputs": [],
   "source": []
  }
 ],
 "metadata": {
  "kernelspec": {
   "display_name": "cmps460",
   "language": "python",
   "name": "python3"
  },
  "language_info": {
   "codemirror_mode": {
    "name": "ipython",
    "version": 3
   },
   "file_extension": ".py",
   "mimetype": "text/x-python",
   "name": "python",
   "nbconvert_exporter": "python",
   "pygments_lexer": "ipython3",
   "version": "3.10.10"
  },
  "orig_nbformat": 4
 },
 "nbformat": 4,
 "nbformat_minor": 2
}
