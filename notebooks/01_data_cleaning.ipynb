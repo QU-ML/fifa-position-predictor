{
 "cells": [
  {
   "attachments": {},
   "cell_type": "markdown",
   "metadata": {},
   "source": [
    "#### Imports & Constants"
   ]
  },
  {
   "cell_type": "code",
   "execution_count": null,
   "metadata": {},
   "outputs": [],
   "source": [
    "import pathlib\n",
    "import pandas as pd\n",
    "\n",
    "from sklearn.preprocessing import MinMaxScaler, LabelEncoder\n",
    "\n",
    "scaler = MinMaxScaler()\n",
    "le = LabelEncoder()\n",
    "\n",
    "pd.set_option('display.max_columns', 110) # 110 is the number of columns in the dataset\n",
    "pd.set_option('display.max_rows', 1000)\n",
    "\n",
    "DATASET_PATH = pathlib.Path(\"..\") / \"data\" / \"raw\" / \"players.csv\"\n",
    "MAIN_COLUMNS = [7, 14, 15, 31, 32, 33, 35, 41, 42, 43, 44, 45, 46]\n",
    "DETAILED_COLUMNS =  list(range(47, 76))\n",
    "USED_COLUMNS = MAIN_COLUMNS + DETAILED_COLUMNS\n",
    "\n",
    "COLS_TO_NORMALIZE = range(0, 38)\n",
    "\n",
    "class TargetCoder():\n",
    "    \n",
    "    \"\"\" \n",
    "    \n",
    "    \"\"\"\n",
    "    \n",
    "    _POSITIONS_MAPPER = {\n",
    "        \"ST\": \"ST\", \"CF\": \"ST\",\n",
    "        \"LW\": \"LW\", \"LF\": \"LW\", \"LM\": \"LW\",\n",
    "        \"RW\": \"RW\", \"RM\": \"RW\", \"RF\": \"RW\",\n",
    "        \"CM\": \"CM\", \"CAM\": \"CM\", \"CDM\": \"CM\",\n",
    "        \"RB\": \"RB\", \"RWB\": \"RB\",\n",
    "        \"LB\": \"LB\", \"LWB\": \"LB\",\n",
    "        \"CB\": \"CB\"\n",
    "    }\n",
    "\n",
    "    _TARGET_ENCODER = {\n",
    "        \"ST\": 0, \"LW\": 1, \"RW\": 2,\n",
    "        \"CM\": 3, \"RB\": 4, \"LB\": 5, \"CB\": 6\n",
    "    }\n",
    "    \n",
    "    _TARGET_DECODER = {\n",
    "        0: \"ST\", 1: \"LW\", 2: \"RW\",\n",
    "        3: \"CM\", 4: \"RB\", 5: \"LB\", 6: \"CB\"\n",
    "    }\n",
    "    \n",
    "    @staticmethod\n",
    "    def encode(target: str) -> int:\n",
    "        return TargetCoder._TARGET_ENCODER[TargetCoder.map(target)]\n",
    "    \n",
    "    @staticmethod\n",
    "    def decode(target: int) -> str:\n",
    "        return TargetCoder._TARGET_DECODER[target]\n",
    "    \n",
    "    @staticmethod\n",
    "    def map(target: str) -> str:\n",
    "        return TargetCoder._POSITIONS_MAPPER[target]\n",
    "    \n",
    "\n",
    "print(USED_COLUMNS)"
   ]
  },
  {
   "attachments": {},
   "cell_type": "markdown",
   "metadata": {},
   "source": [
    "#### Load Data "
   ]
  },
  {
   "cell_type": "code",
   "execution_count": null,
   "metadata": {},
   "outputs": [],
   "source": [
    "df = pd.read_csv(DATASET_PATH, usecols=USED_COLUMNS)"
   ]
  },
  {
   "attachments": {},
   "cell_type": "markdown",
   "metadata": {},
   "source": [
    "##### Droppings"
   ]
  },
  {
   "cell_type": "code",
   "execution_count": null,
   "metadata": {},
   "outputs": [],
   "source": [
    "def drop_goalkeepers(df: pd.DataFrame) -> None:\n",
    "    \"\"\"\n",
    "    Drops all goalkeepers from the dataset inplace\n",
    "    \"\"\"\n",
    "    df.drop(df[df[\"player_positions\"].str.contains(\"GK\")].index, inplace=True)\n",
    "    \n",
    "def drop_mentality_composure(df: pd.DataFrame) -> None:\n",
    "    \"\"\"\n",
    "    Drops all columns related to mentality composure\n",
    "    Reason:\n",
    "        - The column has 20k+ Nans\n",
    "    \"\"\"\n",
    "    df.drop(columns=\"mentality_composure\", inplace=True)"
   ]
  },
  {
   "attachments": {},
   "cell_type": "markdown",
   "metadata": {},
   "source": [
    "### Proccess positions"
   ]
  },
  {
   "cell_type": "code",
   "execution_count": null,
   "metadata": {},
   "outputs": [],
   "source": [
    "def process_positions(df: pd.DataFrame) -> None:\n",
    "    \"\"\"\n",
    "    Processes the player_positions column inplace\n",
    "    Effect:\n",
    "        - Maps the positions to the main positions (first position in the string)\n",
    "        - Move the column to the end of the dataframe\n",
    "        - Renames the column to position to \"label\"\n",
    "    \"\"\"\n",
    "    # map positions\n",
    "    df[\"player_positions\"] = df[\"player_positions\"].str.split(\",\").str[0].map(TargetCoder.encode)\n",
    "    # move the column to the end\n",
    "    df[\"position\"] = df.pop(\"player_positions\")"
   ]
  },
  {
   "attachments": {},
   "cell_type": "markdown",
   "metadata": {},
   "source": [
    "##### One hot encode work rate & preferred_foot"
   ]
  },
  {
   "cell_type": "code",
   "execution_count": null,
   "metadata": {},
   "outputs": [],
   "source": [
    "# RUN ONCE BECAUSE THE WORKRATE COLUMNS WOULD HAVE BEEN DROPED\n",
    "def get_encoded_df(df: pd.DataFrame) -> pd.DataFrame:\n",
    "    \"\"\"\n",
    "    Processes the work_rate column inplace using one hot encoding\n",
    "    Effect:\n",
    "        - One hot encodes the work_rate\n",
    "        - One hot encodes the preferred_foot\n",
    "    \"\"\"\n",
    "    new_df = pd.get_dummies(df, columns=['work_rate', 'preferred_foot'])\n",
    "    return new_df\n"
   ]
  },
  {
   "attachments": {},
   "cell_type": "markdown",
   "metadata": {},
   "source": [
    "##### Normalize Columns"
   ]
  },
  {
   "cell_type": "code",
   "execution_count": null,
   "metadata": {},
   "outputs": [],
   "source": [
    "def normalize_df(df: pd.DataFrame) -> None:\n",
    "    \"\"\"\n",
    "    Normalizes the dataframe inplace\n",
    "    Effect:\n",
    "        - Normalizes the dataframe inplace\n",
    "    \"\"\"\n",
    "    df.iloc[:, COLS_TO_NORMALIZE] = scaler.fit_transform(df.iloc[:, COLS_TO_NORMALIZE])"
   ]
  },
  {
   "attachments": {},
   "cell_type": "markdown",
   "metadata": {},
   "source": [
    "#### Process Data"
   ]
  },
  {
   "cell_type": "code",
   "execution_count": null,
   "metadata": {},
   "outputs": [],
   "source": [
    "\"\"\" \n",
    "KEEP ORDER\n",
    "\"\"\"\n",
    "\n",
    "df = get_encoded_df(df)\n",
    "\n",
    "drop_goalkeepers(df)\n",
    "drop_mentality_composure(df)\n",
    "\n",
    "process_positions(df)\n",
    "\n",
    "normalize_df(df)\n",
    "\n",
    "df.head()"
   ]
  },
  {
   "attachments": {},
   "cell_type": "markdown",
   "metadata": {},
   "source": [
    "#### Save Data"
   ]
  },
  {
   "cell_type": "code",
   "execution_count": null,
   "metadata": {},
   "outputs": [],
   "source": []
  }
 ],
 "metadata": {
  "kernelspec": {
   "display_name": "cmps460",
   "language": "python",
   "name": "python3"
  },
  "language_info": {
   "codemirror_mode": {
    "name": "ipython",
    "version": 3
   },
   "file_extension": ".py",
   "mimetype": "text/x-python",
   "name": "python",
   "nbconvert_exporter": "python",
   "pygments_lexer": "ipython3",
   "version": "3.10.10"
  },
  "orig_nbformat": 4
 },
 "nbformat": 4,
 "nbformat_minor": 2
}
