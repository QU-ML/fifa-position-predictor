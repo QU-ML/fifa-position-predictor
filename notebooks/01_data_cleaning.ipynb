{
 "cells": [
  {
   "attachments": {},
   "cell_type": "markdown",
   "metadata": {},
   "source": [
    "#### Imports & Constants"
   ]
  },
  {
   "cell_type": "code",
   "execution_count": null,
   "metadata": {},
   "outputs": [],
   "source": [
    "import pathlib\n",
    "import pandas as pd\n",
    "\n",
    "pd.set_option('display.max_columns', 110) # 110 is the number of columns in the dataset\n",
    "pd.set_option('display.max_rows', 1000)\n",
    "\n",
    "DATASET_PATH = pathlib.Path(\"..\") / \"data\" / \"raw\" / \"players.csv\"\n",
    "MAIN_COLUMNS = [8, 14, 15, 29, 31, 32, 33, 35, 40, 41, 42, 43, 44, 45, 46]\n",
    "DETAILED_COLUMNS =  list(range(47, 73))\n",
    "USED_COLUMNS = MAIN_COLUMNS + DETAILED_COLUMNS"
   ]
  },
  {
   "attachments": {},
   "cell_type": "markdown",
   "metadata": {},
   "source": [
    "#### Load Data "
   ]
  },
  {
   "cell_type": "code",
   "execution_count": null,
   "metadata": {},
   "outputs": [],
   "source": [
    "df = pd.read_csv(DATASET_PATH, usecols=USED_COLUMNS)\n",
    "print(df.shape)\n",
    "df.head()"
   ]
  },
  {
   "attachments": {},
   "cell_type": "markdown",
   "metadata": {},
   "source": [
    "##### Process 'Traits'"
   ]
  },
  {
   "cell_type": "code",
   "execution_count": null,
   "metadata": {},
   "outputs": [],
   "source": [
    "def _convert_name():\n",
    "    return \"\"\n",
    "def process_traits() -> pd.DataFrame:\n",
    "    return"
   ]
  },
  {
   "cell_type": "code",
   "execution_count": null,
   "metadata": {},
   "outputs": [],
   "source": [
    "\"\"\" \n",
    "encode:\n",
    "    nation_position with custom positions (target)\n",
    "    work rate with custom work rate\n",
    "    player traits with custom traits\n",
    "remove:\n",
    "    player_positions\n",
    "    body type\n",
    "    goalkeepers\n",
    "    goalkeeping attributes\n",
    "\"\"\"\n",
    "# for each trait, split by comma and get unique values\n",
    "def get_unique_values(df, column):\n",
    "    unique_values = []\n",
    "    for row in df[column]:\n",
    "        if type(row) == str:\n",
    "            for value in row.split(\",\"):\n",
    "                if value not in unique_values:\n",
    "                    unique_values.append(value)\n",
    "        else:\n",
    "            print(row)\n",
    "            if row not in unique_values:\n",
    "                unique_values.append(row)\n",
    "    return unique_values\n",
    "\n",
    "df"
   ]
  },
  {
   "attachments": {},
   "cell_type": "markdown",
   "metadata": {},
   "source": [
    "### Proccessed Data"
   ]
  },
  {
   "cell_type": "code",
   "execution_count": null,
   "metadata": {},
   "outputs": [],
   "source": []
  },
  {
   "attachments": {},
   "cell_type": "markdown",
   "metadata": {},
   "source": [
    "#### Save Data"
   ]
  },
  {
   "cell_type": "code",
   "execution_count": null,
   "metadata": {},
   "outputs": [],
   "source": []
  }
 ],
 "metadata": {
  "kernelspec": {
   "display_name": "cmps460",
   "language": "python",
   "name": "python3"
  },
  "language_info": {
   "codemirror_mode": {
    "name": "ipython",
    "version": 3
   },
   "file_extension": ".py",
   "mimetype": "text/x-python",
   "name": "python",
   "nbconvert_exporter": "python",
   "pygments_lexer": "ipython3",
   "version": "3.10.10"
  },
  "orig_nbformat": 4
 },
 "nbformat": 4,
 "nbformat_minor": 2
}
