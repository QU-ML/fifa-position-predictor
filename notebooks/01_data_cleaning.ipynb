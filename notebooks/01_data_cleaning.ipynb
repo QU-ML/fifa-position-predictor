{
 "cells": [
  {
   "attachments": {},
   "cell_type": "markdown",
   "metadata": {},
   "source": [
    "#### Imports & Constants"
   ]
  },
  {
   "cell_type": "code",
   "execution_count": null,
   "metadata": {},
   "outputs": [],
   "source": [
    "import pathlib\n",
    "import pandas as pd\n",
    "\n",
    "pd.set_option('display.max_columns', 110) # 110 is the number of columns in the dataset\n",
    "pd.set_option('display.max_rows', 1000)\n",
    "\n",
    "DATASET_PATH = pathlib.Path(\"..\") / \"data\" / \"raw\" / \"players.csv\"\n",
    "MAIN_COLUMNS = [7, 14, 15, 31, 32, 33, 35, 40, 41, 42, 43, 44, 45, 46]\n",
    "DETAILED_COLUMNS =  list(range(47, 76))\n",
    "USED_COLUMNS = MAIN_COLUMNS + DETAILED_COLUMNS\n",
    "print(USED_COLUMNS)"
   ]
  },
  {
   "attachments": {},
   "cell_type": "markdown",
   "metadata": {},
   "source": [
    "#### Load Data "
   ]
  },
  {
   "cell_type": "code",
   "execution_count": null,
   "metadata": {},
   "outputs": [],
   "source": [
    "df = pd.read_csv(DATASET_PATH, usecols=USED_COLUMNS)"
   ]
  },
  {
   "attachments": {},
   "cell_type": "markdown",
   "metadata": {},
   "source": [
    "##### Trimming Columns"
   ]
  },
  {
   "cell_type": "code",
   "execution_count": null,
   "metadata": {},
   "outputs": [],
   "source": [
    "# moving the labels to the end of the dataframe\n",
    "labels = df.pop('player_positions')\n",
    "df.insert(len(df.columns), 'labels', labels)\n",
    "print(df['labels'].head())"
   ]
  },
  {
   "attachments": {},
   "cell_type": "markdown",
   "metadata": {},
   "source": [
    "##### Dropping all GKs"
   ]
  },
  {
   "cell_type": "code",
   "execution_count": null,
   "metadata": {},
   "outputs": [],
   "source": [
    "# dropping all records of goalkeepers since we won't be classifying this position\n",
    "df.drop(df[df['labels'] == 'GK'].index, inplace=True)"
   ]
  },
  {
   "attachments": {},
   "cell_type": "markdown",
   "metadata": {},
   "source": [
    "### Proccessed Positions"
   ]
  },
  {
   "cell_type": "code",
   "execution_count": null,
   "metadata": {},
   "outputs": [],
   "source": [
    "# dict holds all the unique positions and their corresponding custom positions\n",
    "# the returned value is the custom position that will be used for training and testing\n",
    "positions = {'lift wing':['LW', 'LM', 'LS', 'LAM', 'LF'],\n",
    "                 'right wing':['RW', 'RM', 'RS', 'RAM', 'RF'], \n",
    "                 'striker':['CF', 'ST', 'CAM', 'SS', 'LS', 'RS'], \n",
    "                 'center midfield':['CM', 'CDM', 'CAM'], \n",
    "                 'left back':['LB', 'LWB'], \n",
    "                 'right back':['RB', 'RWB'], \n",
    "                 'center back':['CB', 'LCB', 'RCB']}\n",
    "def _get_player_positions(pos: list) -> str:\n",
    "    pass\n",
    "\n",
    "def proccess_positions(df: pd.Series) -> pd.DataFrame:\n",
    "    df['labels'] = df['labels'].apply(_get_player_positions)\n",
    "    return df\n",
    "\n",
    "# applying the function to the dataframe\n",
    "df[labels].apply(proccess_positions, inplace=True)\n"
   ]
  },
  {
   "cell_type": "code",
   "execution_count": null,
   "metadata": {},
   "outputs": [],
   "source": [
    "\"\"\" \n",
    "encode:\n",
    "    nation_position with custom positions (target)\n",
    "    work rate with custom work rate\n",
    "    player traits with custom traits\n",
    "remove:\n",
    "    player_positions\n",
    "    body type\n",
    "    goalkeepers\n",
    "    goalkeeping attributes\n",
    "\"\"\"\n",
    "# for each trait, split by comma and get unique values\n",
    "def get_unique_values(df, column):\n",
    "    unique_values = []\n",
    "    for row in df[column]:\n",
    "        if type(row) == str:\n",
    "            for value in row.split(\",\"):\n",
    "                if value not in unique_values:\n",
    "                    unique_values.append(value)\n",
    "        else:\n",
    "            print(row)\n",
    "            if row not in unique_values:\n",
    "                unique_values.append(row)\n",
    "    return unique_values\n",
    "df.iloc[:, -1].unique()"
   ]
  },
  {
   "attachments": {},
   "cell_type": "markdown",
   "metadata": {},
   "source": [
    "#### Save Data"
   ]
  },
  {
   "cell_type": "code",
   "execution_count": null,
   "metadata": {},
   "outputs": [],
   "source": []
  }
 ],
 "metadata": {
  "kernelspec": {
   "display_name": "cmps460",
   "language": "python",
   "name": "python3"
  },
  "language_info": {
   "codemirror_mode": {
    "name": "ipython",
    "version": 3
   },
   "file_extension": ".py",
   "mimetype": "text/x-python",
   "name": "python",
   "nbconvert_exporter": "python",
   "pygments_lexer": "ipython3",
   "version": "3.10.8"
  },
  "orig_nbformat": 4
 },
 "nbformat": 4,
 "nbformat_minor": 2
}
