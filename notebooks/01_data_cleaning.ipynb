{
 "cells": [
  {
   "attachments": {},
   "cell_type": "markdown",
   "metadata": {},
   "source": [
    "#### Imports & Constants"
   ]
  },
  {
   "cell_type": "code",
   "execution_count": 64,
   "metadata": {},
   "outputs": [],
   "source": [
    "import pathlib\n",
    "import pandas as pd\n",
    "\n",
    "pd.set_option('display.max_columns', 110) # 110 is the number of columns in the dataset\n",
    "pd.set_option('display.max_rows', 1000)\n",
    "\n",
    "DATASET_PATH = pathlib.Path(\"..\") / \"data\" / \"raw\" / \"players.csv\"\n",
    "MAIN_COLUMNS = [7, 14, 15, 31, 32, 33, 35, 40, 41, 42, 43, 44, 45, 46]\n",
    "DETAILED_COLUMNS =  list(range(47, 76))\n",
    "USED_COLUMNS = MAIN_COLUMNS + DETAILED_COLUMNS"
   ]
  },
  {
   "attachments": {},
   "cell_type": "markdown",
   "metadata": {},
   "source": [
    "#### Load Data "
   ]
  },
  {
   "cell_type": "code",
   "execution_count": 65,
   "metadata": {},
   "outputs": [],
   "source": [
    "df = pd.read_csv(DATASET_PATH, usecols=USED_COLUMNS)"
   ]
  },
  {
   "cell_type": "code",
   "execution_count": 66,
   "metadata": {},
   "outputs": [],
   "source": [
    "def _drop_GKs(df: pd.DataFrame) -> None:\n",
    "    \"\"\"Drops all goalkeepers from the dataset inplace\"\"\"\n",
    "    df.drop(df[df[\"player_positions\"].str.contains(\"GK\")].index, inplace=True)"
   ]
  },
  {
   "attachments": {},
   "cell_type": "markdown",
   "metadata": {},
   "source": [
    "##### Process traits"
   ]
  },
  {
   "cell_type": "code",
   "execution_count": 67,
   "metadata": {},
   "outputs": [
    {
     "name": "stdout",
     "output_type": "stream",
     "text": [
      "(143613, 51)\n"
     ]
    }
   ],
   "source": [
    "# for each trait, split by comma and get unique values\n",
    "_drop_GKs(df)\n",
    "\n",
    "def process_work_rate(df: pd.DataFrame) -> pd.DataFrame:\n",
    "    \"\"\"Splits the work_rate column into 9 columns\"\"\"\n",
    "    df = pd.get_dummies(df, columns=['work_rate'])\n",
    "    return df\n",
    "    \n",
    "df = process_work_rate(df)\n",
    "def process_traits():\n",
    "    ..."
   ]
  },
  {
   "attachments": {},
   "cell_type": "markdown",
   "metadata": {},
   "source": [
    "#### Process Data"
   ]
  },
  {
   "cell_type": "code",
   "execution_count": 68,
   "metadata": {},
   "outputs": [
    {
     "data": {
      "text/plain": [
       "' \\nencode:\\n    nation_position with custom positions (target)\\n    work rate with custom work rate\\n    player traits with custom traits\\nremove:\\n    player_positions\\n    body type\\n    goalkeepers\\n    goalkeeping attributes\\n'"
      ]
     },
     "execution_count": 68,
     "metadata": {},
     "output_type": "execute_result"
    }
   ],
   "source": [
    "\"\"\" \n",
    "encode:\n",
    "    nation_position with custom positions (target)\n",
    "    work rate with custom work rate\n",
    "    player traits with custom traits\n",
    "remove:\n",
    "    player_positions\n",
    "    body type\n",
    "    goalkeepers\n",
    "    goalkeeping attributes\n",
    "\"\"\""
   ]
  },
  {
   "attachments": {},
   "cell_type": "markdown",
   "metadata": {},
   "source": [
    "#### Save Data"
   ]
  },
  {
   "cell_type": "code",
   "execution_count": null,
   "metadata": {},
   "outputs": [],
   "source": []
  }
 ],
 "metadata": {
  "kernelspec": {
   "display_name": "cmps460",
   "language": "python",
   "name": "python3"
  },
  "language_info": {
   "codemirror_mode": {
    "name": "ipython",
    "version": 3
   },
   "file_extension": ".py",
   "mimetype": "text/x-python",
   "name": "python",
   "nbconvert_exporter": "python",
   "pygments_lexer": "ipython3",
   "version": "3.10.8"
  },
  "orig_nbformat": 4
 },
 "nbformat": 4,
 "nbformat_minor": 2
}
